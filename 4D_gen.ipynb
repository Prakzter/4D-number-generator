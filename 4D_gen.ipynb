{
 "cells": [
  {
   "cell_type": "markdown",
   "metadata": {},
   "source": [
    "### We start by taking in some user inputs and then by the magic of a simple geometric sequence, our 'lucky' 4D number is generated"
   ]
  },
  {
   "cell_type": "code",
   "execution_count": 42,
   "metadata": {},
   "outputs": [
    {
     "name": "stdout",
     "output_type": "stream",
     "text": [
      "2689\n"
     ]
    }
   ],
   "source": [
    "def fourd_gen(a, b, c, d):\n",
    "    final_num = a*((1-b**c)/(1-b))*d\n",
    "    final_num = int(final_num) \n",
    "\n",
    "#   This loop helps to always ensure we get a 4 digit num\n",
    "    while True:  \n",
    "        if final_num < 1000:\n",
    "            final_num *= 99    \n",
    "        elif final_num > 9999:\n",
    "            final_num /= 2343\n",
    "        else: \n",
    "            break\n",
    "            \n",
    "    return int(final_num)              \n",
    "            \n",
    "print(fourd_gen(23, 45, 67, 34))"
   ]
  },
  {
   "cell_type": "markdown",
   "metadata": {},
   "source": [
    "### We've got our function to work, now let's get in some questions to store into the 4 variables: a, b, c and d"
   ]
  },
  {
   "cell_type": "code",
   "execution_count": 47,
   "metadata": {},
   "outputs": [
    {
     "name": "stdout",
     "output_type": "stream",
     "text": [
      "Hi there, I've got some questions for you!\n",
      "\n",
      "If you rolled a die, what number(from 1 to 6) do you think you'd roll?2\n",
      "Which date were you born on?23\n",
      "What was the service number of the last bus you took?239\n",
      "What are the last 3 digits of your mobile number?435\n",
      " \n",
      "Here's your lucky number:\n",
      "1064\n"
     ]
    }
   ],
   "source": [
    "print(\"Hi there, I've got some questions for you!\")\n",
    "print(\"\")\n",
    "input3 = int(input(\"If you rolled a die, what number(from 1 to 6) do you think you'd roll?\"))\n",
    "input2 = int(input(\"Which date were you born on?\"))\n",
    "input1 = int(input(\"What was the service number of the last bus you took?\"))\n",
    "input4 = int(input(\"What are the last 3 digits of your mobile number?\"))\n",
    "\n",
    "print(\" \")\n",
    "print(\"Here's your lucky number:\")\n",
    "print(fourd_gen(input1, input2, input3, input4))"
   ]
  },
  {
   "cell_type": "markdown",
   "metadata": {},
   "source": [
    "### Well there you go! \n",
    "Of course there could more improvements to ensure error handling is better managed for e.g. making sure the user doesn't input 7 as a possible die choice, etc. We could also enhance the questions by storing the inputs into a dictionary and running a IF loop and feed the variables into the function.\n"
   ]
  }
 ],
 "metadata": {
  "kernelspec": {
   "display_name": "Python 3",
   "language": "python",
   "name": "python3"
  },
  "language_info": {
   "codemirror_mode": {
    "name": "ipython",
    "version": 3
   },
   "file_extension": ".py",
   "mimetype": "text/x-python",
   "name": "python",
   "nbconvert_exporter": "python",
   "pygments_lexer": "ipython3",
   "version": "3.6.8"
  }
 },
 "nbformat": 4,
 "nbformat_minor": 2
}
